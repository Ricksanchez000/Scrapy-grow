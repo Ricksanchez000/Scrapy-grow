{
 "cells": [
  {
   "cell_type": "code",
   "execution_count": 43,
   "id": "b60aa087-3e67-4b2b-8dc5-633f3e7b3039",
   "metadata": {
    "tags": []
   },
   "outputs": [],
   "source": [
    "from selenium import webdriver\n",
    "from selenium.webdriver.edge.options import Options\n",
    "\n",
    "options = Options()\n",
    "options.add_argument(\"headless\")\n",
    "\n",
    "driver = webdriver.Edge(options = options)"
   ]
  },
  {
   "cell_type": "code",
   "execution_count": 44,
   "id": "38213d13-67fd-4476-9a30-afc1939b284d",
   "metadata": {
    "tags": []
   },
   "outputs": [],
   "source": [
    "driver.get('https://twitter.com/home')\n"
   ]
  },
  {
   "cell_type": "code",
   "execution_count": 45,
   "id": "d1495d78-310e-476e-9cd3-6f50dcc005b6",
   "metadata": {
    "tags": []
   },
   "outputs": [],
   "source": [
    "import json\n",
    "\n",
    "# Load cookies from your text file\n",
    "with open('cookies.txt', 'r') as f:\n",
    "    cookies = json.load(f)\n",
    "    for cookie in cookies:\n",
    "        if 'expiry' in cookie:\n",
    "            cookie['expiry'] = int(cookie['expiry'])\n",
    "        driver.add_cookie(cookie)"
   ]
  },
  {
   "cell_type": "code",
   "execution_count": 46,
   "id": "c4824145-cf97-494d-8c58-151f3eba7e31",
   "metadata": {
    "tags": []
   },
   "outputs": [],
   "source": [
    "# Refresh the page to have the cookies take effect\n",
    "driver.refresh()"
   ]
  },
  {
   "cell_type": "code",
   "execution_count": 47,
   "id": "b25b86e3-a45f-4cb9-bb69-2bc70f91e980",
   "metadata": {
    "tags": []
   },
   "outputs": [],
   "source": [
    "url = f\"https://twitter.com/home\"\n",
    "driver.get(url)\n"
   ]
  },
  {
   "cell_type": "code",
   "execution_count": 48,
   "id": "34ee0add-6243-4813-b3d8-9d990e7dafb8",
   "metadata": {
    "tags": []
   },
   "outputs": [],
   "source": [
    "from bs4 import BeautifulSoup\n",
    "html = driver.page_source\n",
    "soup = BeautifulSoup(html, \"html.parser\")\n"
   ]
  },
  {
   "cell_type": "code",
   "execution_count": 49,
   "id": "b96523b9-392f-44ae-ac8d-f2ddffcf9df1",
   "metadata": {
    "tags": []
   },
   "outputs": [],
   "source": [
    "tweets = soup.find_all(\"div\", {'data-testid': \"tweetText\"})\n"
   ]
  },
  {
   "cell_type": "code",
   "execution_count": 51,
   "id": "ebeb6ae8-2d4c-4b04-b6b1-57f5c2dad9f9",
   "metadata": {
    "tags": []
   },
   "outputs": [
    {
     "name": "stdout",
     "output_type": "stream",
     "text": [
      "This was Optimus not long ago\n",
      "I recommend investing in Argentina\n",
      "Great meeting with President ⁦\n",
      "Worth watching\n",
      "The Bobby Kennedy video Meta doesn’t want you to see, narrated by Woody Harrelson.\n",
      "Although Boeing got $4.2 billion to develop an astronaut capsule and SpaceX only got $2.6 billion, SpaceX finished 4 years sooner. \n",
      "\n",
      "Note, the crew capsule design of Dragon 2 has almost nothing in common with Dragon 1. \n",
      "\n",
      "Too many non-technical managers at Boeing.\n",
      "Here's my deep dive into why Starliner is seven years late.\n",
      "\n",
      "\n"
     ]
    }
   ],
   "source": [
    "for tweet in tweets:\n",
    "    # Since the actual text is inside a <span> within the <div>, we find the <span> and extract its text.\n",
    "    content = tweet.find('span')\n",
    "    if content:\n",
    "        print(content.text)\n",
    "    else:\n",
    "        print(\"Tweet text not found\")"
   ]
  },
  {
   "cell_type": "code",
   "execution_count": 50,
   "id": "138c688a-4641-45e2-98bc-2849b606765c",
   "metadata": {
    "tags": []
   },
   "outputs": [
    {
     "data": {
      "text/plain": [
       "[<div class=\"css-1rynq56 r-8akbws r-krxsd3 r-dnmrzs r-1udh08x r-bcqeeo r-qvutc0 r-37j5jr r-a023e6 r-rjixqe r-16dba41 r-bnwqim\" data-testid=\"tweetText\" dir=\"auto\" id=\"id__k67wsl5su0j\" lang=\"en\" style=\"-webkit-line-clamp: 10; text-overflow: unset; color: rgb(15, 20, 25);\"><span class=\"css-1qaijid r-bcqeeo r-qvutc0 r-poiln3\" style=\"text-overflow: unset;\">This was Optimus not long ago</span></div>,\n",
       " <div class=\"css-1rynq56 r-8akbws r-krxsd3 r-dnmrzs r-1udh08x r-bcqeeo r-qvutc0 r-37j5jr r-a023e6 r-rjixqe r-16dba41 r-bnwqim\" data-testid=\"tweetText\" dir=\"auto\" id=\"id__xw4ob1pwt7b\" lang=\"en\" style=\"-webkit-line-clamp: 10; text-overflow: unset; color: rgb(15, 20, 25);\"><span class=\"css-1qaijid r-bcqeeo r-qvutc0 r-poiln3\" style=\"text-overflow: unset;\">I recommend investing in Argentina</span></div>,\n",
       " <div class=\"css-1rynq56 r-8akbws r-krxsd3 r-dnmrzs r-1udh08x r-bcqeeo r-qvutc0 r-37j5jr r-a023e6 r-rjixqe r-16dba41 r-bnwqim r-14gqq1x\" data-testid=\"tweetText\" dir=\"auto\" lang=\"en\" style=\"-webkit-line-clamp: 5; text-overflow: unset; color: rgb(15, 20, 25);\"><span class=\"css-1qaijid r-bcqeeo r-qvutc0 r-poiln3\" style=\"text-overflow: unset;\">Great meeting with President ⁦</span><span class=\"r-18u37iz\"><span class=\"css-1qaijid r-bcqeeo r-qvutc0 r-poiln3\" dir=\"ltr\" style=\"text-overflow: unset;\">@JMilei</span></span><span class=\"css-1qaijid r-bcqeeo r-qvutc0 r-poiln3\" style=\"text-overflow: unset;\">⁩!</span></div>,\n",
       " <div class=\"css-1rynq56 r-8akbws r-krxsd3 r-dnmrzs r-1udh08x r-bcqeeo r-qvutc0 r-37j5jr r-a023e6 r-rjixqe r-16dba41 r-bnwqim\" data-testid=\"tweetText\" dir=\"auto\" id=\"id__xe2yrema07i\" lang=\"en\" style=\"-webkit-line-clamp: 10; text-overflow: unset; color: rgb(15, 20, 25);\"><span class=\"css-1qaijid r-bcqeeo r-qvutc0 r-poiln3\" style=\"text-overflow: unset;\">Worth watching</span></div>,\n",
       " <div class=\"css-1rynq56 r-8akbws r-krxsd3 r-dnmrzs r-1udh08x r-bcqeeo r-qvutc0 r-37j5jr r-a023e6 r-rjixqe r-16dba41 r-bnwqim r-14gqq1x\" data-testid=\"tweetText\" dir=\"auto\" lang=\"en\" style=\"-webkit-line-clamp: 5; text-overflow: unset; color: rgb(15, 20, 25);\"><span class=\"css-1qaijid r-bcqeeo r-qvutc0 r-poiln3\" style=\"text-overflow: unset;\">The Bobby Kennedy video Meta doesn’t want you to see, narrated by Woody Harrelson.</span></div>,\n",
       " <div class=\"css-1rynq56 r-8akbws r-krxsd3 r-dnmrzs r-1udh08x r-bcqeeo r-qvutc0 r-37j5jr r-a023e6 r-rjixqe r-16dba41 r-bnwqim\" data-testid=\"tweetText\" dir=\"auto\" id=\"id__ut19n9b78o\" lang=\"en\" style=\"-webkit-line-clamp: 10; text-overflow: unset; color: rgb(15, 20, 25);\"><span class=\"css-1qaijid r-bcqeeo r-qvutc0 r-poiln3\" style=\"text-overflow: unset;\">Although Boeing got $4.2 billion to develop an astronaut capsule and SpaceX only got $2.6 billion, SpaceX finished 4 years sooner. \n",
       " \n",
       " Note, the crew capsule design of Dragon 2 has almost nothing in common with Dragon 1. \n",
       " \n",
       " Too many non-technical managers at Boeing.</span></div>,\n",
       " <div class=\"css-1rynq56 r-8akbws r-krxsd3 r-dnmrzs r-1udh08x r-bcqeeo r-qvutc0 r-37j5jr r-a023e6 r-rjixqe r-16dba41 r-bnwqim r-14gqq1x\" data-testid=\"tweetText\" dir=\"auto\" lang=\"en\" style=\"-webkit-line-clamp: 5; text-overflow: unset; color: rgb(15, 20, 25);\"><span class=\"css-1qaijid r-bcqeeo r-qvutc0 r-poiln3\" style=\"text-overflow: unset;\">Here's my deep dive into why Starliner is seven years late.\n",
       " \n",
       " </span><span class=\"css-1qaijid r-bcqeeo r-qvutc0 r-poiln3\" dir=\"ltr\" style=\"text-overflow: unset;\"><span aria-hidden=\"true\" class=\"css-1qaijid r-bcqeeo r-qvutc0 r-poiln3 r-qlhcfr r-qvk6io\" style=\"text-overflow: unset;\">https://</span>arstechnica.com/space/2024/05/<span aria-hidden=\"true\" class=\"css-1qaijid r-bcqeeo r-qvutc0 r-poiln3 r-qlhcfr r-qvk6io\" style=\"text-overflow: unset;\">the-surprise-is-not-that-boeing-lost-commercial-crew-but-that-it-finished-at-all/</span><span aria-hidden=\"true\" class=\"css-1qaijid r-bcqeeo r-qvutc0 r-poiln3 r-lrvibr\" style=\"text-overflow: unset;\">…</span></span></div>]"
      ]
     },
     "execution_count": 50,
     "metadata": {},
     "output_type": "execute_result"
    }
   ],
   "source": [
    "tweets"
   ]
  },
  {
   "cell_type": "code",
   "execution_count": 53,
   "id": "0a668043-2597-40f9-bbea-7967e8729805",
   "metadata": {
    "tags": []
   },
   "outputs": [
    {
     "data": {
      "text/plain": [
       "'\\nfrom selenium import webdriver\\nfrom selenium.webdriver.edge.options import Options\\nfrom selenium.webdriver.common.by import By\\nfrom selenium.webdriver.support.ui import WebDriverWait\\nfrom selenium.webdriver.support import expected_conditions as EC\\n\\noptions = Options()\\noptions.add_argument(\"headless\")\\ndriver = webdriver.Edge(options=options)\\n\\nurl = \"https://twitter.com/search?q=hello&src=typed_query\"\\ndriver.get(url)\\n\\n# Wait until the tweet text is visible\\nwait = WebDriverWait(driver, 10)  # Wait for up to 10 seconds\\ntweets = wait.until(EC.visibility_of_all_elements_located((By.XPATH, \\'//div[@data-testid=\"tweetText\"]/span\\')))\\n\\nfor tweet in tweets:\\n    print(tweet.text)\\n\\ndriver.quit()\\n'"
      ]
     },
     "execution_count": 53,
     "metadata": {},
     "output_type": "execute_result"
    }
   ],
   "source": [
    "'''\n",
    "#to dynamicly handle the twitter page, I will try to work on this part after checking the Scrapy selector part\n",
    "\n",
    "from selenium import webdriver\n",
    "from selenium.webdriver.edge.options import Options\n",
    "from selenium.webdriver.common.by import By\n",
    "from selenium.webdriver.support.ui import WebDriverWait\n",
    "from selenium.webdriver.support import expected_conditions as EC\n",
    "\n",
    "options = Options()\n",
    "options.add_argument(\"headless\")\n",
    "driver = webdriver.Edge(options=options)\n",
    "\n",
    "url = \"https://twitter.com/search?q=hello&src=typed_query\"\n",
    "driver.get(url)\n",
    "\n",
    "# Wait until the tweet text is visible\n",
    "wait = WebDriverWait(driver, 10)  # Wait for up to 10 seconds\n",
    "tweets = wait.until(EC.visibility_of_all_elements_located((By.XPATH, '//div[@data-testid=\"tweetText\"]/span')))\n",
    "\n",
    "for tweet in tweets:\n",
    "    print(tweet.text)\n",
    "\n",
    "driver.quit()\n",
    "'''"
   ]
  },
  {
   "cell_type": "code",
   "execution_count": null,
   "id": "42b9b34e-95a8-46bd-918b-d37aab017fb8",
   "metadata": {},
   "outputs": [],
   "source": []
  }
 ],
 "metadata": {
  "kernelspec": {
   "display_name": "Python 3 (ipykernel)",
   "language": "python",
   "name": "python3"
  },
  "language_info": {
   "codemirror_mode": {
    "name": "ipython",
    "version": 3
   },
   "file_extension": ".py",
   "mimetype": "text/x-python",
   "name": "python",
   "nbconvert_exporter": "python",
   "pygments_lexer": "ipython3",
   "version": "3.11.5"
  }
 },
 "nbformat": 4,
 "nbformat_minor": 5
}
